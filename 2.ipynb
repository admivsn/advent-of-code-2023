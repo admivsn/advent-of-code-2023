{
 "cells": [
  {
   "cell_type": "code",
   "execution_count": 1,
   "metadata": {},
   "outputs": [],
   "source": [
    "import pandas as pd"
   ]
  },
  {
   "cell_type": "code",
   "execution_count": 2,
   "metadata": {},
   "outputs": [
    {
     "data": {
      "text/html": [
       "<div>\n",
       "<style scoped>\n",
       "    .dataframe tbody tr th:only-of-type {\n",
       "        vertical-align: middle;\n",
       "    }\n",
       "\n",
       "    .dataframe tbody tr th {\n",
       "        vertical-align: top;\n",
       "    }\n",
       "\n",
       "    .dataframe thead th {\n",
       "        text-align: right;\n",
       "    }\n",
       "</style>\n",
       "<table border=\"1\" class=\"dataframe\">\n",
       "  <thead>\n",
       "    <tr style=\"text-align: right;\">\n",
       "      <th></th>\n",
       "      <th>game_id</th>\n",
       "      <th>games</th>\n",
       "    </tr>\n",
       "  </thead>\n",
       "  <tbody>\n",
       "    <tr>\n",
       "      <th>0</th>\n",
       "      <td>Game 1</td>\n",
       "      <td>2 green, 6 blue, 7 red; 12 green, 6 blue, 3 re...</td>\n",
       "    </tr>\n",
       "    <tr>\n",
       "      <th>1</th>\n",
       "      <td>Game 2</td>\n",
       "      <td>10 green, 4 red; 2 red; 12 green, 11 red, 1 bl...</td>\n",
       "    </tr>\n",
       "    <tr>\n",
       "      <th>2</th>\n",
       "      <td>Game 3</td>\n",
       "      <td>3 green; 15 red, 7 blue, 1 green; 3 red, 6 blu...</td>\n",
       "    </tr>\n",
       "    <tr>\n",
       "      <th>3</th>\n",
       "      <td>Game 4</td>\n",
       "      <td>5 blue; 8 blue, 7 red; 9 blue, 5 red, 4 green;...</td>\n",
       "    </tr>\n",
       "    <tr>\n",
       "      <th>4</th>\n",
       "      <td>Game 5</td>\n",
       "      <td>3 blue, 4 red, 10 green; 13 green, 8 blue, 2 r...</td>\n",
       "    </tr>\n",
       "  </tbody>\n",
       "</table>\n",
       "</div>"
      ],
      "text/plain": [
       "  game_id                                              games\n",
       "0  Game 1  2 green, 6 blue, 7 red; 12 green, 6 blue, 3 re...\n",
       "1  Game 2  10 green, 4 red; 2 red; 12 green, 11 red, 1 bl...\n",
       "2  Game 3  3 green; 15 red, 7 blue, 1 green; 3 red, 6 blu...\n",
       "3  Game 4  5 blue; 8 blue, 7 red; 9 blue, 5 red, 4 green;...\n",
       "4  Game 5  3 blue, 4 red, 10 green; 13 green, 8 blue, 2 r..."
      ]
     },
     "execution_count": 2,
     "metadata": {},
     "output_type": "execute_result"
    }
   ],
   "source": [
    "# Load data from advent of code into a dataframe\n",
    "url = \"https://adventofcode.com/2023/day/2/input\"\n",
    "headers = {\"Cookie\": \"session=blah\"}\n",
    "df = pd.read_csv(url, storage_options=headers, sep=\": \", names=[\"game_id\", \"games\"], engine='python')\n",
    "df.head()"
   ]
  },
  {
   "cell_type": "code",
   "execution_count": 3,
   "metadata": {},
   "outputs": [
    {
     "data": {
      "text/plain": [
       "game_id\n",
       "1    2 green, 6 blue, 7 red; 12 green, 6 blue, 3 re...\n",
       "2    10 green, 4 red; 2 red; 12 green, 11 red, 1 bl...\n",
       "3    3 green; 15 red, 7 blue, 1 green; 3 red, 6 blu...\n",
       "4    5 blue; 8 blue, 7 red; 9 blue, 5 red, 4 green;...\n",
       "5    3 blue, 4 red, 10 green; 13 green, 8 blue, 2 r...\n",
       "Name: games, dtype: object"
      ]
     },
     "execution_count": 3,
     "metadata": {},
     "output_type": "execute_result"
    }
   ],
   "source": [
    "# Convert to series with game_id (as an int) as index\n",
    "df[\"game_id\"] = df[\"game_id\"].apply(lambda x: int(x.split(\" \")[1]))\n",
    "df = df.set_index(\"game_id\")[\"games\"]\n",
    "df.head()"
   ]
  },
  {
   "cell_type": "code",
   "execution_count": 4,
   "metadata": {},
   "outputs": [
    {
     "data": {
      "text/html": [
       "<div>\n",
       "<style scoped>\n",
       "    .dataframe tbody tr th:only-of-type {\n",
       "        vertical-align: middle;\n",
       "    }\n",
       "\n",
       "    .dataframe tbody tr th {\n",
       "        vertical-align: top;\n",
       "    }\n",
       "\n",
       "    .dataframe thead th {\n",
       "        text-align: right;\n",
       "    }\n",
       "</style>\n",
       "<table border=\"1\" class=\"dataframe\">\n",
       "  <thead>\n",
       "    <tr style=\"text-align: right;\">\n",
       "      <th>1</th>\n",
       "      <th>game_id</th>\n",
       "      <th>show_num</th>\n",
       "      <th>blue</th>\n",
       "      <th>green</th>\n",
       "      <th>red</th>\n",
       "    </tr>\n",
       "  </thead>\n",
       "  <tbody>\n",
       "    <tr>\n",
       "      <th>0</th>\n",
       "      <td>1</td>\n",
       "      <td>0</td>\n",
       "      <td>6</td>\n",
       "      <td>2</td>\n",
       "      <td>7</td>\n",
       "    </tr>\n",
       "    <tr>\n",
       "      <th>1</th>\n",
       "      <td>1</td>\n",
       "      <td>1</td>\n",
       "      <td>6</td>\n",
       "      <td>12</td>\n",
       "      <td>3</td>\n",
       "    </tr>\n",
       "    <tr>\n",
       "      <th>2</th>\n",
       "      <td>1</td>\n",
       "      <td>2</td>\n",
       "      <td>4</td>\n",
       "      <td>18</td>\n",
       "      <td>5</td>\n",
       "    </tr>\n",
       "    <tr>\n",
       "      <th>3</th>\n",
       "      <td>2</td>\n",
       "      <td>0</td>\n",
       "      <td>0</td>\n",
       "      <td>10</td>\n",
       "      <td>4</td>\n",
       "    </tr>\n",
       "    <tr>\n",
       "      <th>4</th>\n",
       "      <td>2</td>\n",
       "      <td>1</td>\n",
       "      <td>0</td>\n",
       "      <td>0</td>\n",
       "      <td>2</td>\n",
       "    </tr>\n",
       "  </tbody>\n",
       "</table>\n",
       "</div>"
      ],
      "text/plain": [
       "1  game_id  show_num  blue  green  red\n",
       "0        1         0     6      2    7\n",
       "1        1         1     6     12    3\n",
       "2        1         2     4     18    5\n",
       "3        2         0     0     10    4\n",
       "4        2         1     0      0    2"
      ]
     },
     "execution_count": 4,
     "metadata": {},
     "output_type": "execute_result"
    }
   ],
   "source": [
    "# Process the data into long format, with a row per show (multiple shows per game) with the number of blue / green / red shown\n",
    "df = (\n",
    "    df\n",
    "    # Pivot longer by the show number \n",
    "    .str.split(\"; \", expand=True).stack()\n",
    "    .rename_axis(index={None: \"show_num\"})\n",
    "    # Pivot longer by each colour\n",
    "    .str.split(\", \", expand=True).stack()\n",
    "    .rename_axis(index={None: \"pick_num\"})\n",
    "    # Extract number (index 0) and colour (index 1) from pick\n",
    "    .str.split(\" \", expand=True)\n",
    "    # Ensure the number is an int\n",
    "    .set_index(1, append=True)\n",
    "    .astype(int)\n",
    "    .reset_index(level=1)\n",
    "    # Pivot wide\n",
    "    .pivot_table(index=[\"game_id\", \"show_num\"], values=0, columns=1, aggfunc=\"sum\", fill_value=0)\n",
    "    .reset_index()\n",
    ")\n",
    "df.head()"
   ]
  },
  {
   "cell_type": "code",
   "execution_count": 5,
   "metadata": {},
   "outputs": [
    {
     "data": {
      "text/plain": [
       "2076"
      ]
     },
     "execution_count": 5,
     "metadata": {},
     "output_type": "execute_result"
    }
   ],
   "source": [
    "# Part 1 - Sum the unique game ids that are possible\n",
    "idx_not_possible = (df[\"blue\"] > 14) | (df[\"green\"] > 13) | (df[\"red\"] > 12)\n",
    "sum(set(df[\"game_id\"]) - set(df.loc[idx_not_possible, \"game_id\"]))"
   ]
  },
  {
   "cell_type": "code",
   "execution_count": 6,
   "metadata": {},
   "outputs": [
    {
     "data": {
      "text/plain": [
       "70950"
      ]
     },
     "execution_count": 6,
     "metadata": {},
     "output_type": "execute_result"
    }
   ],
   "source": [
    "# Part 2 - find the max of each colour per game, multiply together and sum\n",
    "df.groupby([\"game_id\"])[[\"blue\", \"green\", \"red\"]].max().prod(axis=1).sum()"
   ]
  }
 ],
 "metadata": {
  "kernelspec": {
   "display_name": "ml-customer-churn-docker",
   "language": "python",
   "name": "python3"
  },
  "language_info": {
   "codemirror_mode": {
    "name": "ipython",
    "version": 3
   },
   "file_extension": ".py",
   "mimetype": "text/x-python",
   "name": "python",
   "nbconvert_exporter": "python",
   "pygments_lexer": "ipython3",
   "version": "3.10.10"
  },
  "orig_nbformat": 4,
  "vscode": {
   "interpreter": {
    "hash": "86ab67c233efc379afe73a5846b5b32942c4ae6b8fd35d352470606bac8df48c"
   }
  }
 },
 "nbformat": 4,
 "nbformat_minor": 2
}
